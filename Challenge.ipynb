{
 "cells": [
  {
   "cell_type": "code",
   "execution_count": 1,
   "metadata": {
    "collapsed": false,
    "deletable": true,
    "editable": true
   },
   "outputs": [
    {
     "name": "stdout",
     "output_type": "stream",
     "text": [
      "bookings.csv  bookings.csv.bz2\tsearches.csv  searches.csv.bz2\r\n"
     ]
    }
   ],
   "source": [
    "!ls /home/dsc/Data/challenge/"
   ]
  },
  {
   "cell_type": "code",
   "execution_count": 2,
   "metadata": {
    "collapsed": false,
    "deletable": true,
    "editable": true
   },
   "outputs": [
    {
     "name": "stdout",
     "output_type": "stream",
     "text": [
      "total 8564M\r\n",
      "-rw-rw-r--  1 dsc dsc 4049M Jan  4  2016 bookings.csv\r\n",
      "-rw-rw-r--  1 dsc dsc  530M Jan  4  2016 bookings.csv.bz2\r\n",
      "-rw-rw-r--  1 dsc dsc 3525M Jan  4  2016 searches.csv\r\n",
      "-rw-rw-r--. 1 dsc dsc  461M Jan  4  2016 searches.csv.bz2\r\n"
     ]
    }
   ],
   "source": [
    "path = \"/home/dsc/Data/challenge/\"\n",
    "booking_path = path + \"bookings.csv.bz2\"\n",
    "searches_path = path + \"searches.csv.bz2\"\n",
    "!ls -l --block-size=M {path}"
   ]
  },
  {
   "cell_type": "code",
   "execution_count": 5,
   "metadata": {
    "collapsed": false,
    "deletable": true,
    "editable": true
   },
   "outputs": [
    {
     "name": "stdout",
     "output_type": "stream",
     "text": [
      "bzip2, a block-sorting file compressor.  Version 1.0.6, 6-Sept-2010.\r\n",
      "\r\n",
      "   usage: bzip2 [flags and input files in any order]\r\n",
      "\r\n",
      "   -h --help           print this message\r\n",
      "   -d --decompress     force decompression\r\n",
      "   -z --compress       force compression\r\n",
      "   -k --keep           keep (don't delete) input files\r\n",
      "   -f --force          overwrite existing output files\r\n",
      "   -t --test           test compressed file integrity\r\n",
      "   -c --stdout         output to standard out\r\n",
      "   -q --quiet          suppress noncritical error messages\r\n",
      "   -v --verbose        be verbose (a 2nd -v gives more)\r\n",
      "   -L --license        display software version & license\r\n",
      "   -V --version        display software version & license\r\n",
      "   -s --small          use less memory (at most 2500k)\r\n",
      "   -1 .. -9            set block size to 100k .. 900k\r\n",
      "   --fast              alias for -1\r\n",
      "   --best              alias for -9\r\n",
      "\r\n",
      "   If invoked as `bzip2', default action is to compress.\r\n",
      "              as `bunzip2',  default action is to decompress.\r\n",
      "              as `bzcat', default action is to decompress to stdout.\r\n",
      "\r\n",
      "   If no file names are given, bzip2 compresses or decompresses\r\n",
      "   from standard input to standard output.  You can combine\r\n",
      "   short flags, so `-v -4' means the same as -v4 or -4v, &c.\r\n",
      "\r\n"
     ]
    }
   ],
   "source": [
    "!bzip2 --help"
   ]
  },
  {
   "cell_type": "code",
   "execution_count": 43,
   "metadata": {
    "collapsed": false,
    "deletable": true,
    "editable": true
   },
   "outputs": [
    {
     "name": "stdout",
     "output_type": "stream",
     "text": [
      "/home/dsc/Data/challenge/bookings.csv.bz2\r\n"
     ]
    }
   ],
   "source": [
    "!ls {booking_path}"
   ]
  },
  {
   "cell_type": "code",
   "execution_count": 44,
   "metadata": {
    "collapsed": false,
    "deletable": true,
    "editable": true
   },
   "outputs": [
    {
     "name": "stdout",
     "output_type": "stream",
     "text": [
      "act_date           ^source^pos_ctry^pos_iata^pos_oid  ^rloc          ^cre_date           ^duration^distance^dep_port^dep_city^dep_ctry^arr_port^arr_city^arr_ctry^lst_port^lst_city^lst_ctry^brd_port^brd_city^brd_ctry^off_port^off_city^off_ctry^mkt_port^mkt_city^mkt_ctry^intl^route          ^carrier^bkg_class^cab_class^brd_time           ^off_time           ^pax^year^month^oid      \r\n",
      "2013-03-05 00:00:00^1A    ^DE      ^a68dd7ae953c8acfb187a1af2dcbe123^1a11ae49fcbf545fd2afc1a24d88d2b7^ea65900e72d71f4626378e2ebd298267^2013-02-22 00:00:00^1708^0^ZRH     ^ZRH     ^CH      ^LHR     ^LON     ^GB      ^ZRH     ^ZRH     ^CH      ^LHR     ^LON     ^GB      ^ZRH     ^ZRH     ^CH      ^LHRZRH  ^LONZRH  ^CHGB    ^1^LHRZRH         ^VI^T        ^Y        ^2013-03-07 08:50:00^2013-03-07 11:33:37^-1^2013^3^NULL     \r\n",
      "2013-03-26 00:00:00^1A    ^US      ^e612b9eeeee6f17f42d9b0d3b79e75ca^7437560d8f276d6d05eeb806d9e7edee^737295a86982c941f1c2da9a46a14043^2013-03-26 00:00:00^135270^0^SAL     ^SAL     ^SV      ^CLT     ^CLT     ^US      ^SAL     ^SAL     ^SV      ^SAL     ^SAL     ^SV      ^CLT     ^CLT     ^US      ^CLTSAL  ^CLTSAL  ^SVUS    ^1^SALATLCLT      ^NV^L        ^Y        ^2013-04-12 13:04:00^2013-04-12 22:05:40^1^2013^3^NULL     \r\n",
      "2013-03-26 00:00:00^1A    ^US      ^e612b9eeeee6f17f42d9b0d3b79e75ca^7437560d8f276d6d05eeb806d9e7edee^737295a86982c941f1c2da9a46a14043^2013-03-26 00:00:00^135270^0^SAL     ^SAL     ^SV      ^CLT     ^CLT     ^US      ^SAL     ^SAL     ^SV      ^CLT     ^CLT     ^US      ^SAL     ^SAL     ^SV      ^CLTSAL  ^CLTSAL  ^SVUS    ^1^CLTATLSAL      ^NV^U        ^Y        ^2013-07-15 07:00:00^2013-07-15 11:34:51^1^2013^3^NULL     \r\n",
      "2013-03-26 00:00:00^1A    ^AU      ^0f984b3bb6bd06661c95529bbd6193bc^36472c6dbaf7afec9136ac40364e2794^5ecf00fdcbcec761c43dc7285253d0c1^2013-03-26 00:00:00^30885^0^AKL     ^AKL     ^NZ      ^SVO     ^MOW     ^RU      ^AKL     ^AKL     ^NZ      ^AKL     ^AKL     ^NZ      ^SVO     ^MOW     ^RU      ^AKLSVO  ^AKLMOW  ^NZRU    ^1^AKLHKGSVO      ^XK^G        ^Y        ^2013-04-24 23:59:00^2013-04-25 16:06:31^1^2013^3^SYDA82546\r\n",
      "2013-03-26 00:00:00^1A    ^AU      ^0f984b3bb6bd06661c95529bbd6193bc^36472c6dbaf7afec9136ac40364e2794^5ecf00fdcbcec761c43dc7285253d0c1^2013-03-26 00:00:00^30885^0^AKL     ^AKL     ^NZ      ^SVO     ^MOW     ^RU      ^AKL     ^AKL     ^NZ      ^SVO     ^MOW     ^RU      ^AKL     ^AKL     ^NZ      ^AKLSVO  ^AKLMOW  ^NZRU    ^1^SVOHKGAKL      ^XK^G        ^Y        ^2013-05-14 20:15:00^2013-05-16 10:44:50^1^2013^3^SYDA82546\r\n",
      "2013-03-20 00:00:00^1V    ^US      ^0283592e45e392871f7e14b1e22a9aaf^2d0f8e7e1bb792625d2f34f221bc38f1^d54708298686de200f8270e7c637af5e^2013-03-20 00:00:00^5923^0^DEN     ^DEN     ^US      ^LGA     ^NYC     ^US      ^DEN     ^DEN     ^US      ^DEN     ^DEN     ^US      ^LGA     ^NYC     ^US      ^DENLGA  ^DENNYC  ^USUS    ^0^DENLGA         ^FK^W        ^Y        ^2013-04-07 10:23:00^2013-04-07 16:14:24^1^2013^3^NULL     \r\n",
      "2013-03-20 00:00:00^1V    ^US      ^0283592e45e392871f7e14b1e22a9aaf^2d0f8e7e1bb792625d2f34f221bc38f1^d54708298686de200f8270e7c637af5e^2013-03-20 00:00:00^5923^0^DEN     ^DEN     ^US      ^LGA     ^NYC     ^US      ^DEN     ^DEN     ^US      ^LGA     ^NYC     ^US      ^DEN     ^DEN     ^US      ^DENLGA  ^DENNYC  ^USUS    ^0^LGADEN         ^FK^K        ^Y        ^2013-04-11 11:15:00^2013-04-11 13:06:24^1^2013^3^NULL     \r\n",
      "2013-03-25 00:00:00^1V    ^JP      ^5af045902bd23cab579915611d99e1e0^5073861d8597467c33596bfe16f23c56^a37584d1485cb35991e4ff1a2ba92262^2013-03-25 00:00:00^8371^60^NRT     ^TYO     ^JP      ^SIN     ^SIN     ^SG      ^HND     ^TYO     ^JP      ^NRT     ^TYO     ^JP      ^SIN     ^SIN     ^SG      ^NRTSIN  ^SINTYO  ^JPSG    ^1^NRTSIN         ^XR^Q        ^Y        ^2013-04-14 11:05:00^2013-04-14 17:10:56^2^2013^3^NULL     \r\n",
      "2013-03-25 00:00:00^1V    ^JP      ^5af045902bd23cab579915611d99e1e0^5073861d8597467c33596bfe16f23c56^a37584d1485cb35991e4ff1a2ba92262^2013-03-25 00:00:00^8371^60^NRT     ^TYO     ^JP      ^SIN     ^SIN     ^SG      ^HND     ^TYO     ^JP      ^SIN     ^SIN     ^SG      ^PEN     ^PEN     ^MY      ^PENSIN  ^PENSIN  ^MYSG    ^1^SINPEN         ^WS^Y        ^Y        ^2013-04-16 15:45:00^2013-04-16 17:15:29^2^2013^3^NULL     \r\n",
      "\r\n",
      "bzcat: I/O or other error, bailing out.  Possible reason follows.\r\n",
      "bzcat: Broken pipe\r\n",
      "\tInput file = /home/dsc/Data/challenge/bookings.csv.bz2, output file = (stdout)\r\n"
     ]
    }
   ],
   "source": [
    "!bzcat {booking_path} | head"
   ]
  },
  {
   "cell_type": "code",
   "execution_count": 45,
   "metadata": {
    "collapsed": false,
    "deletable": true,
    "editable": true
   },
   "outputs": [
    {
     "name": "stdout",
     "output_type": "stream",
     "text": [
      "Date^Time^TxnCode^OfficeID^Country^Origin^Destination^RoundTrip^NbSegments^Seg1Departure^Seg1Arrival^Seg1Date^Seg1Carrier^Seg1BookingCode^Seg2Departure^Seg2Arrival^Seg2Date^Seg2Carrier^Seg2BookingCode^Seg3Departure^Seg3Arrival^Seg3Date^Seg3Carrier^Seg3BookingCode^Seg4Departure^Seg4Arrival^Seg4Date^Seg4Carrier^Seg4BookingCode^Seg5Departure^Seg5Arrival^Seg5Date^Seg5Carrier^Seg5BookingCode^Seg6Departure^Seg6Arrival^Seg6Date^Seg6Carrier^Seg6BookingCode^From^IsPublishedForNeg^IsFromInternet^IsFromVista^TerminalID^InternetOffice\r\n",
      "2013-01-01^20:25:57^MPT^624d8c3ac0b3a7ca03e3c167e0f48327^DE^TXL^AUH^1^2^TXL^AUH^2013-01-26^D2^^AUH^TXL^2013-02-02^D2^^^^^^^^^^^^^^^^^^^^^^1ASIWS^0^0^0^d41d8cd98f00b204e9800998ecf8427e^FRA\r\n",
      "2013-01-01^10:15:33^MPT^b0af35b31588dc4ab06d5cf2986e8e02^MD^ATH^MIL^0^1^ATH^MIL^2013-01-04^^^^^^^^^^^^^^^^^^^^^^^^^^^^1ASIWS^0^0^0^d41d8cd98f00b204e9800998ecf8427e^KIV\r\n",
      "2013-01-01^18:04:49^MPT^3561a60621de06ab1badc8ca55699ef3^US^ICT^SFO^1^2^ICT^SFO^2013-08-02^^^SFO^ICT^2013-08-09^^^^^^^^^^^^^^^^^^^^^^^1ASIWS^0^0^0^d41d8cd98f00b204e9800998ecf8427e^NYC\r\n",
      "2013-01-01^17:42:40^FXP^1864e5e8013d9414150e91d26b6a558b^SE^RNB^ARN^0^1^RNB^ARN^2013-01-02^DU^W^^^^^^^^^^^^^^^^^^^^^^^^^^1ASI^0^0^0^d41d8cd98f00b204e9800998ecf8427e^STO\r\n",
      "2013-01-01^17:48:29^MPT^1ec336348f44207d2e0027dc3a68c118^NO^OSL^MAD^1^2^OSL^MAD^2013-03-22^^^MAD^OSL^2013-03-31^^^^^^^^^^^^^^^^^^^^^^^1ASIWS^0^0^0^d41d8cd98f00b204e9800998ecf8427e^OSL\r\n",
      "2013-01-01^22:00:28^MPT^3561a60621de06ab1badc8ca55699ef3^US^IAH^BLR^1^2^IAH^BLR^2013-02-14^^^BLR^IAH^2013-02-23^^^^^^^^^^^^^^^^^^^^^^^1ASIWS^0^0^0^d41d8cd98f00b204e9800998ecf8427e^NYC\r\n",
      "2013-01-01^10:47:14^MPT^d327ca6e35cc6732d4709828327ac7c1^DK^CPH^PAR^1^2^CPH^PAR^2013-03-02^^^PAR^CPH^2013-03-07^^^^^^^^^^^^^^^^^^^^^^^1ASI^0^0^0^d41d8cd98f00b204e9800998ecf8427e^CPH\r\n",
      "2013-01-01^23:39:49^MPT^38a3abb0a28e3f00fa79a11f552a5052^FR^PAR^DUB^1^2^PAR^DUB^2013-02-12^^^DUB^PAR^2013-02-17^^^^^^^^^^^^^^^^^^^^^^^1ASIWS^0^0^0^d41d8cd98f00b204e9800998ecf8427e^PAR\r\n",
      "2013-01-01^17:08:46^MPT^c8daef4f8bf73a61aa2c928705f7b82d^ES^DUS^ACE^1^2^DUS^ACE^2013-03-30^^^ACE^DUS^2013-04-06^^^^^^^^^^^^^^^^^^^^^^^1ASIWS^0^0^0^d41d8cd98f00b204e9800998ecf8427e^MAD\r\n",
      "\r\n",
      "bzcat: I/O or other error, bailing out.  Possible reason follows.\r\n",
      "bzcat: Broken pipe\r\n",
      "\tInput file = /home/dsc/Data/challenge/searches.csv.bz2, output file = (stdout)\r\n"
     ]
    }
   ],
   "source": [
    "!bzcat {path}{searches_file} | head"
   ]
  },
  {
   "cell_type": "code",
   "execution_count": 46,
   "metadata": {
    "collapsed": false,
    "deletable": true,
    "editable": true
   },
   "outputs": [
    {
     "name": "stdout",
     "output_type": "stream",
     "text": [
      "CPU times: user 1.52 s, sys: 254 ms, total: 1.78 s\n",
      "Wall time: 1min 58s\n"
     ]
    }
   ],
   "source": [
    "# We will decompress the files for gain performance. We keep the originals\n",
    "%time !bzip2 -dk {booking_path}"
   ]
  },
  {
   "cell_type": "code",
   "execution_count": 47,
   "metadata": {
    "collapsed": false,
    "deletable": true,
    "editable": true
   },
   "outputs": [
    {
     "name": "stdout",
     "output_type": "stream",
     "text": [
      "total 5159236\r\n",
      "-rw-rw-r--  1 dsc dsc 4244874509 Jan  4  2016 bookings.csv\r\n",
      "-rw-rw-r--  1 dsc dsc  554970628 Jan  4  2016 bookings.csv.bz2\r\n",
      "-rw-rw-r--. 1 dsc dsc  483188920 Jan  4  2016 searches.csv.bz2\r\n"
     ]
    }
   ],
   "source": [
    "!ls -l {path}"
   ]
  },
  {
   "cell_type": "code",
   "execution_count": 48,
   "metadata": {
    "collapsed": false,
    "deletable": true,
    "editable": true
   },
   "outputs": [
    {
     "name": "stdout",
     "output_type": "stream",
     "text": [
      "CPU times: user 1.29 s, sys: 249 ms, total: 1.54 s\n",
      "Wall time: 1min 51s\n"
     ]
    }
   ],
   "source": [
    "%time !bzip2 -dk {searches_path}"
   ]
  },
  {
   "cell_type": "code",
   "execution_count": 49,
   "metadata": {
    "collapsed": false,
    "deletable": true,
    "editable": true
   },
   "outputs": [
    {
     "name": "stdout",
     "output_type": "stream",
     "text": [
      "total 8768840\r\n",
      "-rw-rw-r--  1 dsc dsc 4244874509 Jan  4  2016 bookings.csv\r\n",
      "-rw-rw-r--  1 dsc dsc  554970628 Jan  4  2016 bookings.csv.bz2\r\n",
      "-rw-rw-r--  1 dsc dsc 3696229366 Jan  4  2016 searches.csv\r\n",
      "-rw-rw-r--. 1 dsc dsc  483188920 Jan  4  2016 searches.csv.bz2\r\n"
     ]
    }
   ],
   "source": [
    "!ls -l {path}"
   ]
  },
  {
   "cell_type": "markdown",
   "metadata": {
    "deletable": true,
    "editable": true
   },
   "source": [
    "### Exercise 1"
   ]
  },
  {
   "cell_type": "markdown",
   "metadata": {
    "deletable": true,
    "editable": true
   },
   "source": [
    "Count the number of lines in Python for each file"
   ]
  },
  {
   "cell_type": "code",
   "execution_count": 5,
   "metadata": {
    "collapsed": true,
    "deletable": true,
    "editable": true
   },
   "outputs": [],
   "source": [
    "import pandas as pd"
   ]
  },
  {
   "cell_type": "code",
   "execution_count": 8,
   "metadata": {
    "collapsed": false,
    "deletable": true,
    "editable": true
   },
   "outputs": [
    {
     "name": "stdout",
     "output_type": "stream",
     "text": [
      "10000010\n"
     ]
    }
   ],
   "source": [
    "booking_path = path + \"bookings.csv\"\n",
    "searches_path = path + \"searches.csv\"\n",
    "chunksize=1000\n",
    "# Use usecols for better the performance. The gain in time is the 100%\n",
    "book_reader = pd.read_csv(booking_path, sep='^', chunksize=chunksize, usecols={'pos_iata', 'pos_ctry'})\n",
    "# http://pandas.pydata.org/pandas-docs/stable/io.html#io-chunking\n",
    "rownum = 0\n",
    "for chunk in book_reader:\n",
    "    rownum += len(chunk)\n",
    "\n",
    "print rownum\n",
    "# Rownum = 10000010"
   ]
  },
  {
   "cell_type": "code",
   "execution_count": 10,
   "metadata": {
    "collapsed": false,
    "deletable": true,
    "editable": true
   },
   "outputs": [
    {
     "name": "stdout",
     "output_type": "stream",
     "text": [
      "20390198\n"
     ]
    }
   ],
   "source": [
    "search_reader = pd.read_csv(searches_path, sep='^', chunksize=chunksize, usecols={'TxnCode', 'OfficeID'})\n",
    "# http://pandas.pydata.org/pandas-docs/stable/io.html#io-chunking\n",
    "rownum_search = 0\n",
    "for chunk in search_reader:\n",
    "    rownum_search += len(chunk)\n",
    "\n",
    "print rownum_search\n",
    "# rownum_search = 20390198"
   ]
  },
  {
   "cell_type": "code",
   "execution_count": 18,
   "metadata": {
    "collapsed": true,
    "deletable": true,
    "editable": true
   },
   "outputs": [],
   "source": [
    "# Close readers. Que\n",
    "book_reader.close()\n",
    "search_reader.close()"
   ]
  },
  {
   "cell_type": "markdown",
   "metadata": {
    "deletable": true,
    "editable": true
   },
   "source": [
    "### Exercise 2"
   ]
  },
  {
   "cell_type": "markdown",
   "metadata": {
    "deletable": true,
    "editable": true
   },
   "source": [
    "**Top 10 arrival airports in the world in 2013 (using the bookings file).**\n",
    "\n",
    "* Arrival airport is the column arr_port. It is the IATA code for the airport\n",
    "\n",
    "* To get the total number of passengers for an airport, you can sum the column pax, grouping by arr_port. Note that there is negative pax. That corresponds to cancelations. So to get the total number of passengers that have actually booked, you should sum including the negatives (that will remove the canceled bookings).\n",
    "\n",
    "* Print the top 10 arrival airports in the standard output, including the number of passengers.\n",
    "\n",
    "* **Bonus point**: Get the name of the city or airport corresponding to that airport (programatically, we suggest to have a look at **GeoBases in Github**)\n",
    "\n",
    "* **Bonus point**: Solve this problem using pandas (instead of any other approach)"
   ]
  },
  {
   "cell_type": "code",
   "execution_count": 52,
   "metadata": {
    "collapsed": false,
    "deletable": true,
    "editable": true
   },
   "outputs": [],
   "source": [
    "chunksize=50000\n",
    "book_reader = pd.read_csv(booking_path, sep='^', chunksize=chunksize, usecols={'arr_port', 'pax'})\n",
    "#book_reader.next().columns\n",
    "# Quiza crear un df vacio. iterar por el reader y hacer el group by de cada chunk y concatenar el resultado con el df auxiliar\n",
    "# The column 13 is arr_port and is composed for her iata code"
   ]
  },
  {
   "cell_type": "code",
   "execution_count": 53,
   "metadata": {
    "collapsed": false,
    "deletable": true,
    "editable": true
   },
   "outputs": [
    {
     "data": {
      "text/plain": [
       "arr_port\n",
       "LHR         88809.0\n",
       "MCO         69170.0\n",
       "LAX         68320.0\n",
       "LAS         66920.0\n",
       "CDG         60650.0\n",
       "JFK         54540.0\n",
       "BKK         49930.0\n",
       "SFO         43270.0\n",
       "MIA         42050.0\n",
       "DXB         35790.0\n",
       "dtype: float64"
      ]
     },
     "execution_count": 53,
     "metadata": {},
     "output_type": "execute_result"
    }
   ],
   "source": [
    "#df = book_reader.next()\n",
    "#df.groupby('arr_port')['pax'].sum().sort_values(ascending=False).head(10)\n",
    "# Create empty serie para ir rellenandola. Si da problemas hacer un add con 0 fillna flag\n",
    "serie = pd.Series()\n",
    "for chunk in book_reader:\n",
    "    # Habria que combinar cada serie que obtenemos con la anterior. Quiza crear serie vacia antes e ir concatenando o uniendo o ver como\n",
    "    serie = serie.add(fill_value=0, other=chunk.groupby('arr_port')['pax']\\\n",
    "                        .sum()\\\n",
    "                        .sort_values(ascending=False)\\\n",
    "                        .head(10))\n",
    "\n",
    "top_pax_by_airport = serie.sort_values(ascending=False).head(10)\n",
    "top_pax_by_airport"
   ]
  },
  {
   "cell_type": "markdown",
   "metadata": {
    "collapsed": true,
    "deletable": true,
    "editable": true
   },
   "source": [
    "**BONUS**"
   ]
  },
  {
   "cell_type": "code",
   "execution_count": 32,
   "metadata": {
    "collapsed": true
   },
   "outputs": [],
   "source": [
    "# From pypi error ocurred. Don`t match that package for easy-install. We use git method. The cloning is so slow ...\n",
    "# git clone /home/dsc/Repositories/ https://github.com/opentraveldata/geobases\n"
   ]
  },
  {
   "cell_type": "code",
   "execution_count": null,
   "metadata": {
    "collapsed": true
   },
   "outputs": [],
   "source": []
  },
  {
   "cell_type": "markdown",
   "metadata": {
    "collapsed": true,
    "deletable": true,
    "editable": true
   },
   "source": [
    "### Exercise 3"
   ]
  },
  {
   "cell_type": "markdown",
   "metadata": {},
   "source": [
    "**Plot the monthly number of searches for flights arriving at Málaga, Madrid or Barcelona**"
   ]
  },
  {
   "cell_type": "markdown",
   "metadata": {},
   "source": [
    "* For the arriving airport, you can use the Destination column in the searches file. \n",
    "* Plot a curve for Málaga, another one for Madrid, and another one for Barcelona, in the same figure.\n",
    "\n",
    "* **Bonus point**: Solving this problem using pandas (instead of any other approach)"
   ]
  },
  {
   "cell_type": "code",
   "execution_count": 71,
   "metadata": {
    "collapsed": false
   },
   "outputs": [
    {
     "name": "stdout",
     "output_type": "stream",
     "text": [
      "2013-10-13\n"
     ]
    }
   ],
   "source": [
    "search_reader = pd.read_csv(searches_path, sep='^', chunksize=chunksize, usecols={'Date', 'Destination'})\n",
    "# 1. Identify destination code for Malaga, Madrid and Barecelona\n",
    "# 2. Agrupar por meses, mirar en Date yyyy-MM-dd y comprobar por fecha ¿Crear columna con el mes en inglés en función del número?\n",
    "# 3. Dibujar con graficos de barras, eje x = Mes, eje y = nº de visitas\n",
    "\n",
    "#Let's check if the searches are from the same year. Seem that the csv is order by date\n",
    "max_date = 0\n",
    "for chunk in search_reader:    \n",
    "    date_aux = pd.to_datetime(chunk['Date'], format='%Y%m%d', errors='ignore')\n",
    "    max_date = date_aux.max()\n",
    "\n",
    "# TODO Investigate which dates are wrong and why\n",
    "print max_date\n"
   ]
  },
  {
   "cell_type": "code",
   "execution_count": 160,
   "metadata": {
    "collapsed": false
   },
   "outputs": [
    {
     "name": "stdout",
     "output_type": "stream",
     "text": [
      "Populating the interactive namespace from numpy and matplotlib\n"
     ]
    },
    {
     "data": {
      "text/html": [
       "<div>\n",
       "<table border=\"1\" class=\"dataframe\">\n",
       "  <thead>\n",
       "    <tr style=\"text-align: right;\">\n",
       "      <th></th>\n",
       "      <th></th>\n",
       "      <th>Researchs</th>\n",
       "    </tr>\n",
       "    <tr>\n",
       "      <th>Date</th>\n",
       "      <th>Destination</th>\n",
       "      <th></th>\n",
       "    </tr>\n",
       "  </thead>\n",
       "  <tbody>\n",
       "    <tr>\n",
       "      <th rowspan=\"3\" valign=\"top\">Feb</th>\n",
       "      <th>AGP</th>\n",
       "      <td>97</td>\n",
       "    </tr>\n",
       "    <tr>\n",
       "      <th>BCN</th>\n",
       "      <td>357</td>\n",
       "    </tr>\n",
       "    <tr>\n",
       "      <th>MAD</th>\n",
       "      <td>284</td>\n",
       "    </tr>\n",
       "    <tr>\n",
       "      <th rowspan=\"3\" valign=\"top\">Jan</th>\n",
       "      <th>AGP</th>\n",
       "      <td>169</td>\n",
       "    </tr>\n",
       "    <tr>\n",
       "      <th>BCN</th>\n",
       "      <td>517</td>\n",
       "    </tr>\n",
       "    <tr>\n",
       "      <th>MAD</th>\n",
       "      <td>425</td>\n",
       "    </tr>\n",
       "  </tbody>\n",
       "</table>\n",
       "</div>"
      ],
      "text/plain": [
       "                  Researchs\n",
       "Date Destination           \n",
       "Feb  AGP                 97\n",
       "     BCN                357\n",
       "     MAD                284\n",
       "Jan  AGP                169\n",
       "     BCN                517\n",
       "     MAD                425"
      ]
     },
     "execution_count": 160,
     "metadata": {},
     "output_type": "execute_result"
    }
   ],
   "source": [
    "%pylab inline\n",
    "# Seem that all researchs were in 2013\n",
    "search_reader = pd.read_csv(searches_path, sep='^', chunksize=chunksize, usecols={'Date', 'Destination'})\n",
    "\n",
    "# Filter by destination, later use destination as index, at the end create columns depending her month\n",
    "'''\n",
    "df = search_reader.next()\n",
    "list_codes = ['AGP', 'MAD', 'BCN']\n",
    "df = df[df['Destination'].isin(list_codes)]\n",
    "df.set_index('Destination', inplace=True)\n",
    "df['Date'] = pd.to_datetime(df['Date'])\n",
    "df['Date'].min()\n",
    "''';\n",
    "\n",
    "#1. Miramos el iata code para los lugares https://es.wikipedia.org/wiki/C%C3%B3digo_de_aeropuertos_de_IATA\n",
    "# Malaga : AGP, Madrid : MAD, Barcelona : BCN\n",
    "list_codes = ['AGP', 'MAD', 'BCN']\n",
    "\n",
    "df = search_reader.next()\n",
    "df = df[df['Destination'].isin(list_codes)]\n",
    "#df.set_index('Destination', inplace=True)\n",
    "# Cast the column from String to datetime and get the month\n",
    "df['Date'] = pd.to_datetime(df['Date'], format='%Y-%m-%d', errors='coerce').map(lambda x : x.strftime(\"%b\"))\n",
    "\n",
    "df_group = df.groupby(['Date','Destination'])['Destination'].agg({'Researchs' : 'count'})\n",
    "df_group\n"
   ]
  },
  {
   "cell_type": "code",
   "execution_count": null,
   "metadata": {
    "collapsed": true
   },
   "outputs": [],
   "source": []
  },
  {
   "cell_type": "markdown",
   "metadata": {},
   "source": [
    "### Exercise 4"
   ]
  },
  {
   "cell_type": "markdown",
   "metadata": {},
   "source": [
    "**Match searches with bookings**"
   ]
  },
  {
   "cell_type": "markdown",
   "metadata": {},
   "source": [
    "* For every search in the searches file, find out whether the search ended up in a booking or not (using the info in the bookings file). For instance, search and booking origin and destination should match. \n",
    "* For the bookings file, origin and destination are the columns dep_port and arr_port, respectively. \n",
    "* Generate a CSV file with the search data, and an additional field, containing 1 if the search ended up in a booking, and 0 otherwise."
   ]
  },
  {
   "cell_type": "code",
   "execution_count": null,
   "metadata": {
    "collapsed": true
   },
   "outputs": [],
   "source": []
  },
  {
   "cell_type": "code",
   "execution_count": null,
   "metadata": {
    "collapsed": true
   },
   "outputs": [],
   "source": []
  },
  {
   "cell_type": "markdown",
   "metadata": {},
   "source": [
    "### Exercise 5"
   ]
  },
  {
   "cell_type": "markdown",
   "metadata": {},
   "source": [
    "**Write a Web Service**"
   ]
  },
  {
   "cell_type": "markdown",
   "metadata": {},
   "source": [
    "* Wrap the output of the second exercise in a web service that returns the data in JSON format (instead of printing to the standard output).\n",
    "* The web service should accept a parameter n>0. For the top 10 airports, n is 10. For the X top airports, n is X "
   ]
  },
  {
   "cell_type": "code",
   "execution_count": null,
   "metadata": {
    "collapsed": true
   },
   "outputs": [],
   "source": [
    "# Ver como montar un buen json con su mensaje de error si n <=0"
   ]
  },
  {
   "cell_type": "code",
   "execution_count": null,
   "metadata": {
    "collapsed": true
   },
   "outputs": [],
   "source": []
  },
  {
   "cell_type": "code",
   "execution_count": null,
   "metadata": {
    "collapsed": true
   },
   "outputs": [],
   "source": []
  }
 ],
 "metadata": {
  "kernelspec": {
   "display_name": "Python 2",
   "language": "python",
   "name": "python2"
  },
  "language_info": {
   "codemirror_mode": {
    "name": "ipython",
    "version": 2
   },
   "file_extension": ".py",
   "mimetype": "text/x-python",
   "name": "python",
   "nbconvert_exporter": "python",
   "pygments_lexer": "ipython2",
   "version": "2.7.13"
  }
 },
 "nbformat": 4,
 "nbformat_minor": 2
}
