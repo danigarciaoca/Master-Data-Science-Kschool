{
 "cells": [
  {
   "cell_type": "code",
   "execution_count": 1,
   "metadata": {
    "collapsed": false,
    "deletable": true,
    "editable": true
   },
   "outputs": [
    {
     "name": "stdout",
     "output_type": "stream",
     "text": [
      "bookings.csv  bookings.csv.bz2\tsearches.csv  searches.csv.bz2\r\n"
     ]
    }
   ],
   "source": [
    "!ls /home/dsc/Data/challenge/"
   ]
  },
  {
   "cell_type": "code",
   "execution_count": 1,
   "metadata": {
    "collapsed": false,
    "deletable": true,
    "editable": true
   },
   "outputs": [
    {
     "name": "stdout",
     "output_type": "stream",
     "text": [
      "total 8564M\r\n",
      "-rw-rw-r--  1 dsc dsc 4049M Jan  4  2016 bookings.csv\r\n",
      "-rw-rw-r--  1 dsc dsc  530M Jan  4  2016 bookings.csv.bz2\r\n",
      "-rw-rw-r--  1 dsc dsc 3525M Jan  4  2016 searches.csv\r\n",
      "-rw-rw-r--. 1 dsc dsc  461M Jan  4  2016 searches.csv.bz2\r\n"
     ]
    }
   ],
   "source": [
    "path = \"/home/dsc/Data/challenge/\"\n",
    "booking_path = path + \"bookings.csv.bz2\"\n",
    "searches_path = path + \"searches.csv.bz2\"\n",
    "!ls -l --block-size=M {path}"
   ]
  },
  {
   "cell_type": "code",
   "execution_count": 5,
   "metadata": {
    "collapsed": false,
    "deletable": true,
    "editable": true
   },
   "outputs": [
    {
     "name": "stdout",
     "output_type": "stream",
     "text": [
      "bzip2, a block-sorting file compressor.  Version 1.0.6, 6-Sept-2010.\r\n",
      "\r\n",
      "   usage: bzip2 [flags and input files in any order]\r\n",
      "\r\n",
      "   -h --help           print this message\r\n",
      "   -d --decompress     force decompression\r\n",
      "   -z --compress       force compression\r\n",
      "   -k --keep           keep (don't delete) input files\r\n",
      "   -f --force          overwrite existing output files\r\n",
      "   -t --test           test compressed file integrity\r\n",
      "   -c --stdout         output to standard out\r\n",
      "   -q --quiet          suppress noncritical error messages\r\n",
      "   -v --verbose        be verbose (a 2nd -v gives more)\r\n",
      "   -L --license        display software version & license\r\n",
      "   -V --version        display software version & license\r\n",
      "   -s --small          use less memory (at most 2500k)\r\n",
      "   -1 .. -9            set block size to 100k .. 900k\r\n",
      "   --fast              alias for -1\r\n",
      "   --best              alias for -9\r\n",
      "\r\n",
      "   If invoked as `bzip2', default action is to compress.\r\n",
      "              as `bunzip2',  default action is to decompress.\r\n",
      "              as `bzcat', default action is to decompress to stdout.\r\n",
      "\r\n",
      "   If no file names are given, bzip2 compresses or decompresses\r\n",
      "   from standard input to standard output.  You can combine\r\n",
      "   short flags, so `-v -4' means the same as -v4 or -4v, &c.\r\n",
      "\r\n"
     ]
    }
   ],
   "source": [
    "!bzip2 --help"
   ]
  },
  {
   "cell_type": "code",
   "execution_count": 43,
   "metadata": {
    "collapsed": false,
    "deletable": true,
    "editable": true
   },
   "outputs": [
    {
     "name": "stdout",
     "output_type": "stream",
     "text": [
      "/home/dsc/Data/challenge/bookings.csv.bz2\r\n"
     ]
    }
   ],
   "source": [
    "!ls {booking_path}"
   ]
  },
  {
   "cell_type": "code",
   "execution_count": 44,
   "metadata": {
    "collapsed": false,
    "deletable": true,
    "editable": true
   },
   "outputs": [
    {
     "name": "stdout",
     "output_type": "stream",
     "text": [
      "act_date           ^source^pos_ctry^pos_iata^pos_oid  ^rloc          ^cre_date           ^duration^distance^dep_port^dep_city^dep_ctry^arr_port^arr_city^arr_ctry^lst_port^lst_city^lst_ctry^brd_port^brd_city^brd_ctry^off_port^off_city^off_ctry^mkt_port^mkt_city^mkt_ctry^intl^route          ^carrier^bkg_class^cab_class^brd_time           ^off_time           ^pax^year^month^oid      \r\n",
      "2013-03-05 00:00:00^1A    ^DE      ^a68dd7ae953c8acfb187a1af2dcbe123^1a11ae49fcbf545fd2afc1a24d88d2b7^ea65900e72d71f4626378e2ebd298267^2013-02-22 00:00:00^1708^0^ZRH     ^ZRH     ^CH      ^LHR     ^LON     ^GB      ^ZRH     ^ZRH     ^CH      ^LHR     ^LON     ^GB      ^ZRH     ^ZRH     ^CH      ^LHRZRH  ^LONZRH  ^CHGB    ^1^LHRZRH         ^VI^T        ^Y        ^2013-03-07 08:50:00^2013-03-07 11:33:37^-1^2013^3^NULL     \r\n",
      "2013-03-26 00:00:00^1A    ^US      ^e612b9eeeee6f17f42d9b0d3b79e75ca^7437560d8f276d6d05eeb806d9e7edee^737295a86982c941f1c2da9a46a14043^2013-03-26 00:00:00^135270^0^SAL     ^SAL     ^SV      ^CLT     ^CLT     ^US      ^SAL     ^SAL     ^SV      ^SAL     ^SAL     ^SV      ^CLT     ^CLT     ^US      ^CLTSAL  ^CLTSAL  ^SVUS    ^1^SALATLCLT      ^NV^L        ^Y        ^2013-04-12 13:04:00^2013-04-12 22:05:40^1^2013^3^NULL     \r\n",
      "2013-03-26 00:00:00^1A    ^US      ^e612b9eeeee6f17f42d9b0d3b79e75ca^7437560d8f276d6d05eeb806d9e7edee^737295a86982c941f1c2da9a46a14043^2013-03-26 00:00:00^135270^0^SAL     ^SAL     ^SV      ^CLT     ^CLT     ^US      ^SAL     ^SAL     ^SV      ^CLT     ^CLT     ^US      ^SAL     ^SAL     ^SV      ^CLTSAL  ^CLTSAL  ^SVUS    ^1^CLTATLSAL      ^NV^U        ^Y        ^2013-07-15 07:00:00^2013-07-15 11:34:51^1^2013^3^NULL     \r\n",
      "2013-03-26 00:00:00^1A    ^AU      ^0f984b3bb6bd06661c95529bbd6193bc^36472c6dbaf7afec9136ac40364e2794^5ecf00fdcbcec761c43dc7285253d0c1^2013-03-26 00:00:00^30885^0^AKL     ^AKL     ^NZ      ^SVO     ^MOW     ^RU      ^AKL     ^AKL     ^NZ      ^AKL     ^AKL     ^NZ      ^SVO     ^MOW     ^RU      ^AKLSVO  ^AKLMOW  ^NZRU    ^1^AKLHKGSVO      ^XK^G        ^Y        ^2013-04-24 23:59:00^2013-04-25 16:06:31^1^2013^3^SYDA82546\r\n",
      "2013-03-26 00:00:00^1A    ^AU      ^0f984b3bb6bd06661c95529bbd6193bc^36472c6dbaf7afec9136ac40364e2794^5ecf00fdcbcec761c43dc7285253d0c1^2013-03-26 00:00:00^30885^0^AKL     ^AKL     ^NZ      ^SVO     ^MOW     ^RU      ^AKL     ^AKL     ^NZ      ^SVO     ^MOW     ^RU      ^AKL     ^AKL     ^NZ      ^AKLSVO  ^AKLMOW  ^NZRU    ^1^SVOHKGAKL      ^XK^G        ^Y        ^2013-05-14 20:15:00^2013-05-16 10:44:50^1^2013^3^SYDA82546\r\n",
      "2013-03-20 00:00:00^1V    ^US      ^0283592e45e392871f7e14b1e22a9aaf^2d0f8e7e1bb792625d2f34f221bc38f1^d54708298686de200f8270e7c637af5e^2013-03-20 00:00:00^5923^0^DEN     ^DEN     ^US      ^LGA     ^NYC     ^US      ^DEN     ^DEN     ^US      ^DEN     ^DEN     ^US      ^LGA     ^NYC     ^US      ^DENLGA  ^DENNYC  ^USUS    ^0^DENLGA         ^FK^W        ^Y        ^2013-04-07 10:23:00^2013-04-07 16:14:24^1^2013^3^NULL     \r\n",
      "2013-03-20 00:00:00^1V    ^US      ^0283592e45e392871f7e14b1e22a9aaf^2d0f8e7e1bb792625d2f34f221bc38f1^d54708298686de200f8270e7c637af5e^2013-03-20 00:00:00^5923^0^DEN     ^DEN     ^US      ^LGA     ^NYC     ^US      ^DEN     ^DEN     ^US      ^LGA     ^NYC     ^US      ^DEN     ^DEN     ^US      ^DENLGA  ^DENNYC  ^USUS    ^0^LGADEN         ^FK^K        ^Y        ^2013-04-11 11:15:00^2013-04-11 13:06:24^1^2013^3^NULL     \r\n",
      "2013-03-25 00:00:00^1V    ^JP      ^5af045902bd23cab579915611d99e1e0^5073861d8597467c33596bfe16f23c56^a37584d1485cb35991e4ff1a2ba92262^2013-03-25 00:00:00^8371^60^NRT     ^TYO     ^JP      ^SIN     ^SIN     ^SG      ^HND     ^TYO     ^JP      ^NRT     ^TYO     ^JP      ^SIN     ^SIN     ^SG      ^NRTSIN  ^SINTYO  ^JPSG    ^1^NRTSIN         ^XR^Q        ^Y        ^2013-04-14 11:05:00^2013-04-14 17:10:56^2^2013^3^NULL     \r\n",
      "2013-03-25 00:00:00^1V    ^JP      ^5af045902bd23cab579915611d99e1e0^5073861d8597467c33596bfe16f23c56^a37584d1485cb35991e4ff1a2ba92262^2013-03-25 00:00:00^8371^60^NRT     ^TYO     ^JP      ^SIN     ^SIN     ^SG      ^HND     ^TYO     ^JP      ^SIN     ^SIN     ^SG      ^PEN     ^PEN     ^MY      ^PENSIN  ^PENSIN  ^MYSG    ^1^SINPEN         ^WS^Y        ^Y        ^2013-04-16 15:45:00^2013-04-16 17:15:29^2^2013^3^NULL     \r\n",
      "\r\n",
      "bzcat: I/O or other error, bailing out.  Possible reason follows.\r\n",
      "bzcat: Broken pipe\r\n",
      "\tInput file = /home/dsc/Data/challenge/bookings.csv.bz2, output file = (stdout)\r\n"
     ]
    }
   ],
   "source": [
    "!bzcat {booking_path} | head"
   ]
  },
  {
   "cell_type": "code",
   "execution_count": 45,
   "metadata": {
    "collapsed": false,
    "deletable": true,
    "editable": true
   },
   "outputs": [
    {
     "name": "stdout",
     "output_type": "stream",
     "text": [
      "Date^Time^TxnCode^OfficeID^Country^Origin^Destination^RoundTrip^NbSegments^Seg1Departure^Seg1Arrival^Seg1Date^Seg1Carrier^Seg1BookingCode^Seg2Departure^Seg2Arrival^Seg2Date^Seg2Carrier^Seg2BookingCode^Seg3Departure^Seg3Arrival^Seg3Date^Seg3Carrier^Seg3BookingCode^Seg4Departure^Seg4Arrival^Seg4Date^Seg4Carrier^Seg4BookingCode^Seg5Departure^Seg5Arrival^Seg5Date^Seg5Carrier^Seg5BookingCode^Seg6Departure^Seg6Arrival^Seg6Date^Seg6Carrier^Seg6BookingCode^From^IsPublishedForNeg^IsFromInternet^IsFromVista^TerminalID^InternetOffice\r\n",
      "2013-01-01^20:25:57^MPT^624d8c3ac0b3a7ca03e3c167e0f48327^DE^TXL^AUH^1^2^TXL^AUH^2013-01-26^D2^^AUH^TXL^2013-02-02^D2^^^^^^^^^^^^^^^^^^^^^^1ASIWS^0^0^0^d41d8cd98f00b204e9800998ecf8427e^FRA\r\n",
      "2013-01-01^10:15:33^MPT^b0af35b31588dc4ab06d5cf2986e8e02^MD^ATH^MIL^0^1^ATH^MIL^2013-01-04^^^^^^^^^^^^^^^^^^^^^^^^^^^^1ASIWS^0^0^0^d41d8cd98f00b204e9800998ecf8427e^KIV\r\n",
      "2013-01-01^18:04:49^MPT^3561a60621de06ab1badc8ca55699ef3^US^ICT^SFO^1^2^ICT^SFO^2013-08-02^^^SFO^ICT^2013-08-09^^^^^^^^^^^^^^^^^^^^^^^1ASIWS^0^0^0^d41d8cd98f00b204e9800998ecf8427e^NYC\r\n",
      "2013-01-01^17:42:40^FXP^1864e5e8013d9414150e91d26b6a558b^SE^RNB^ARN^0^1^RNB^ARN^2013-01-02^DU^W^^^^^^^^^^^^^^^^^^^^^^^^^^1ASI^0^0^0^d41d8cd98f00b204e9800998ecf8427e^STO\r\n",
      "2013-01-01^17:48:29^MPT^1ec336348f44207d2e0027dc3a68c118^NO^OSL^MAD^1^2^OSL^MAD^2013-03-22^^^MAD^OSL^2013-03-31^^^^^^^^^^^^^^^^^^^^^^^1ASIWS^0^0^0^d41d8cd98f00b204e9800998ecf8427e^OSL\r\n",
      "2013-01-01^22:00:28^MPT^3561a60621de06ab1badc8ca55699ef3^US^IAH^BLR^1^2^IAH^BLR^2013-02-14^^^BLR^IAH^2013-02-23^^^^^^^^^^^^^^^^^^^^^^^1ASIWS^0^0^0^d41d8cd98f00b204e9800998ecf8427e^NYC\r\n",
      "2013-01-01^10:47:14^MPT^d327ca6e35cc6732d4709828327ac7c1^DK^CPH^PAR^1^2^CPH^PAR^2013-03-02^^^PAR^CPH^2013-03-07^^^^^^^^^^^^^^^^^^^^^^^1ASI^0^0^0^d41d8cd98f00b204e9800998ecf8427e^CPH\r\n",
      "2013-01-01^23:39:49^MPT^38a3abb0a28e3f00fa79a11f552a5052^FR^PAR^DUB^1^2^PAR^DUB^2013-02-12^^^DUB^PAR^2013-02-17^^^^^^^^^^^^^^^^^^^^^^^1ASIWS^0^0^0^d41d8cd98f00b204e9800998ecf8427e^PAR\r\n",
      "2013-01-01^17:08:46^MPT^c8daef4f8bf73a61aa2c928705f7b82d^ES^DUS^ACE^1^2^DUS^ACE^2013-03-30^^^ACE^DUS^2013-04-06^^^^^^^^^^^^^^^^^^^^^^^1ASIWS^0^0^0^d41d8cd98f00b204e9800998ecf8427e^MAD\r\n",
      "\r\n",
      "bzcat: I/O or other error, bailing out.  Possible reason follows.\r\n",
      "bzcat: Broken pipe\r\n",
      "\tInput file = /home/dsc/Data/challenge/searches.csv.bz2, output file = (stdout)\r\n"
     ]
    }
   ],
   "source": [
    "!bzcat {path}{searches_file} | head"
   ]
  },
  {
   "cell_type": "code",
   "execution_count": 46,
   "metadata": {
    "collapsed": false,
    "deletable": true,
    "editable": true
   },
   "outputs": [
    {
     "name": "stdout",
     "output_type": "stream",
     "text": [
      "CPU times: user 1.52 s, sys: 254 ms, total: 1.78 s\n",
      "Wall time: 1min 58s\n"
     ]
    }
   ],
   "source": [
    "# We will decompress the files for gain performance. We keep the originals\n",
    "%time !bzip2 -dk {booking_path}"
   ]
  },
  {
   "cell_type": "code",
   "execution_count": 47,
   "metadata": {
    "collapsed": false,
    "deletable": true,
    "editable": true
   },
   "outputs": [
    {
     "name": "stdout",
     "output_type": "stream",
     "text": [
      "total 5159236\r\n",
      "-rw-rw-r--  1 dsc dsc 4244874509 Jan  4  2016 bookings.csv\r\n",
      "-rw-rw-r--  1 dsc dsc  554970628 Jan  4  2016 bookings.csv.bz2\r\n",
      "-rw-rw-r--. 1 dsc dsc  483188920 Jan  4  2016 searches.csv.bz2\r\n"
     ]
    }
   ],
   "source": [
    "!ls -l {path}"
   ]
  },
  {
   "cell_type": "code",
   "execution_count": 48,
   "metadata": {
    "collapsed": false,
    "deletable": true,
    "editable": true
   },
   "outputs": [
    {
     "name": "stdout",
     "output_type": "stream",
     "text": [
      "CPU times: user 1.29 s, sys: 249 ms, total: 1.54 s\n",
      "Wall time: 1min 51s\n"
     ]
    }
   ],
   "source": [
    "%time !bzip2 -dk {searches_path}"
   ]
  },
  {
   "cell_type": "code",
   "execution_count": 49,
   "metadata": {
    "collapsed": false,
    "deletable": true,
    "editable": true
   },
   "outputs": [
    {
     "name": "stdout",
     "output_type": "stream",
     "text": [
      "total 8768840\r\n",
      "-rw-rw-r--  1 dsc dsc 4244874509 Jan  4  2016 bookings.csv\r\n",
      "-rw-rw-r--  1 dsc dsc  554970628 Jan  4  2016 bookings.csv.bz2\r\n",
      "-rw-rw-r--  1 dsc dsc 3696229366 Jan  4  2016 searches.csv\r\n",
      "-rw-rw-r--. 1 dsc dsc  483188920 Jan  4  2016 searches.csv.bz2\r\n"
     ]
    }
   ],
   "source": [
    "!ls -l {path}"
   ]
  },
  {
   "cell_type": "markdown",
   "metadata": {
    "deletable": true,
    "editable": true
   },
   "source": [
    "### Exercise 1"
   ]
  },
  {
   "cell_type": "markdown",
   "metadata": {
    "deletable": true,
    "editable": true
   },
   "source": [
    "Count the number of lines in Python for each file"
   ]
  },
  {
   "cell_type": "code",
   "execution_count": 2,
   "metadata": {
    "collapsed": true,
    "deletable": true,
    "editable": true
   },
   "outputs": [],
   "source": [
    "import pandas as pd"
   ]
  },
  {
   "cell_type": "code",
   "execution_count": 4,
   "metadata": {
    "collapsed": false,
    "deletable": true,
    "editable": true
   },
   "outputs": [
    {
     "name": "stdout",
     "output_type": "stream",
     "text": [
      "10000010\n"
     ]
    }
   ],
   "source": [
    "booking_path = path + \"bookings.csv\"\n",
    "searches_path = path + \"searches.csv\"\n",
    "chunksize=1000\n",
    "# Use usecols for better the performance. The gain in time is the 100%\n",
    "book_reader = pd.read_csv(booking_path, sep='^', chunksize=chunksize, usecols={'pos_iata', 'pos_ctry'})\n",
    "# http://pandas.pydata.org/pandas-docs/stable/io.html#io-chunking\n",
    "rownum = 0\n",
    "for chunk in book_reader:\n",
    "    rownum += len(chunk)\n",
    "\n",
    "print rownum\n",
    "# Rownum = 10000010"
   ]
  },
  {
   "cell_type": "code",
   "execution_count": 5,
   "metadata": {
    "collapsed": false,
    "deletable": true,
    "editable": true
   },
   "outputs": [
    {
     "name": "stdout",
     "output_type": "stream",
     "text": [
      "20390198\n"
     ]
    }
   ],
   "source": [
    "search_reader = pd.read_csv(searches_path, sep='^', chunksize=chunksize, usecols={'TxnCode', 'OfficeID'})\n",
    "# http://pandas.pydata.org/pandas-docs/stable/io.html#io-chunking\n",
    "rownum_search = 0\n",
    "for chunk in search_reader:\n",
    "    rownum_search += len(chunk)\n",
    "\n",
    "print rownum_search\n",
    "# rownum_search = 20390198"
   ]
  },
  {
   "cell_type": "code",
   "execution_count": 6,
   "metadata": {
    "collapsed": true,
    "deletable": true,
    "editable": true
   },
   "outputs": [],
   "source": [
    "# Close readers. Que\n",
    "book_reader.close()\n",
    "search_reader.close()"
   ]
  },
  {
   "cell_type": "markdown",
   "metadata": {
    "deletable": true,
    "editable": true
   },
   "source": [
    "### Exercise 2"
   ]
  },
  {
   "cell_type": "markdown",
   "metadata": {
    "deletable": true,
    "editable": true
   },
   "source": [
    "**Top 10 arrival airports in the world in 2013 (using the bookings file).**\n",
    "\n",
    "* Arrival airport is the column arr_port. It is the IATA code for the airport\n",
    "\n",
    "* To get the total number of passengers for an airport, you can sum the column pax, grouping by arr_port. Note that there is negative pax. That corresponds to cancelations. So to get the total number of passengers that have actually booked, you should sum including the negatives (that will remove the canceled bookings).\n",
    "\n",
    "* Print the top 10 arrival airports in the standard output, including the number of passengers.\n",
    "\n",
    "* **Bonus point**: Get the name of the city or airport corresponding to that airport (programatically, we suggest to have a look at **GeoBases in Github**)\n",
    "\n",
    "* **Bonus point**: Solve this problem using pandas (instead of any other approach)"
   ]
  },
  {
   "cell_type": "code",
   "execution_count": 33,
   "metadata": {
    "collapsed": false,
    "deletable": true,
    "editable": true
   },
   "outputs": [],
   "source": [
    "chunksize=50000\n",
    "book_reader = pd.read_csv(booking_path, sep='^', chunksize=chunksize, usecols={'arr_port', 'pax'})\n",
    "#book_reader.next().columns\n",
    "# Quiza crear un df vacio. iterar por el reader y hacer el group by de cada chunk y concatenar el resultado con el df auxiliar\n",
    "# The column 13 is arr_port and is composed for her iata code"
   ]
  },
  {
   "cell_type": "code",
   "execution_count": 34,
   "metadata": {
    "collapsed": false,
    "deletable": true,
    "editable": true
   },
   "outputs": [
    {
     "data": {
      "text/plain": [
       "LHR    88809.0\n",
       "MCO    69170.0\n",
       "LAX    68320.0\n",
       "LAS    66920.0\n",
       "CDG    60650.0\n",
       "JFK    54540.0\n",
       "BKK    49930.0\n",
       "SFO    43270.0\n",
       "MIA    42050.0\n",
       "DXB    35790.0\n",
       "dtype: float64"
      ]
     },
     "execution_count": 34,
     "metadata": {},
     "output_type": "execute_result"
    }
   ],
   "source": [
    "#df = book_reader.next()\n",
    "#df.groupby('arr_port')['pax'].sum().sort_values(ascending=False).head(10)\n",
    "# Create empty serie para ir rellenandola. Si da problemas hacer un add con 0 fillna flag\n",
    "serie = pd.Series()\n",
    "for chunk in book_reader:\n",
    "    # Habria que combinar cada serie que obtenemos con la anterior. Quiza crear serie vacia antes e ir concatenando o uniendo o ver como\n",
    "    serie = serie.add(fill_value=0, other=chunk.groupby('arr_port')['pax']\\\n",
    "                        .sum()\\\n",
    "                        .sort_values(ascending=False)\\\n",
    "                        .head(10))\n",
    "# Clean whitespaces and get top 10\n",
    "top_pax_by_airport = serie.sort_values(ascending=False).head(10)\n",
    "top_pax_by_airport.index = map(lambda x: x.strip(), top_pax_by_airport.index)\n",
    "top_pax_by_airport"
   ]
  },
  {
   "cell_type": "markdown",
   "metadata": {
    "collapsed": true,
    "deletable": true,
    "editable": true
   },
   "source": [
    "**BONUS**"
   ]
  },
  {
   "cell_type": "code",
   "execution_count": 36,
   "metadata": {
    "collapsed": false,
    "deletable": true,
    "editable": true
   },
   "outputs": [
    {
     "data": {
      "text/plain": [
       "London Heathrow Airport                 88809.0\n",
       "Orlando International Airport           69170.0\n",
       "Los Angeles International Airport       68320.0\n",
       "McCarran International Airport          66920.0\n",
       "Paris - Charles-de-Gaulle               60650.0\n",
       "John F Kennedy International Airport    54540.0\n",
       "Suvarnabhumi                            49930.0\n",
       "San Francisco International Airport     43270.0\n",
       "Miami International Airport             42050.0\n",
       "Dubai International Airport             35790.0\n",
       "dtype: float64"
      ]
     },
     "execution_count": 36,
     "metadata": {},
     "output_type": "execute_result"
    }
   ],
   "source": [
    "# From pypi error ocurred. Don`t match that package for easy-install. We use git method. The cloning is so slow ...\n",
    "# git clone /home/dsc/Repositories/ https://github.com/opentraveldata/geobases\n",
    "from GeoBases import GeoBase\n",
    "\n",
    "# We add the name of airport by his iata code\n",
    "geo_o = GeoBase(data='airports', verbose=False)\n",
    "airports_list = [geo_o.get(x, 'name', default=x) for x in top_pax_by_airport.index]\n",
    "top_pax_by_airport.index = airports_list\n",
    "\n",
    "top_pax_by_airport"
   ]
  },
  {
   "cell_type": "code",
   "execution_count": null,
   "metadata": {
    "collapsed": true,
    "deletable": true,
    "editable": true
   },
   "outputs": [],
   "source": []
  },
  {
   "cell_type": "markdown",
   "metadata": {
    "collapsed": true,
    "deletable": true,
    "editable": true
   },
   "source": [
    "### Exercise 3"
   ]
  },
  {
   "cell_type": "markdown",
   "metadata": {
    "deletable": true,
    "editable": true
   },
   "source": [
    "**Plot the monthly number of searches for flights arriving at Málaga, Madrid or Barcelona**"
   ]
  },
  {
   "cell_type": "markdown",
   "metadata": {
    "deletable": true,
    "editable": true
   },
   "source": [
    "* For the arriving airport, you can use the Destination column in the searches file. \n",
    "* Plot a curve for Málaga, another one for Madrid, and another one for Barcelona, in the same figure.\n",
    "\n",
    "* **Bonus point**: Solving this problem using pandas (instead of any other approach)"
   ]
  },
  {
   "cell_type": "code",
   "execution_count": 9,
   "metadata": {
    "collapsed": false,
    "deletable": true,
    "editable": true
   },
   "outputs": [
    {
     "name": "stdout",
     "output_type": "stream",
     "text": [
      "2013-10-13\n"
     ]
    }
   ],
   "source": [
    "search_reader = pd.read_csv(searches_path, sep='^', chunksize=chunksize, usecols={'Date', 'Destination'})\n",
    "\n",
    "#Let's check if the searches are from the same year. Seem that the csv is order by date\n",
    "max_date = 0\n",
    "for chunk in search_reader:    \n",
    "    date_aux = pd.to_datetime(chunk['Date'], format='%Y%m%d', errors='ignore')\n",
    "    max_date = date_aux.max()\n",
    "\n",
    "# TODO Investigate which dates are wrong and why\n",
    "print max_date\n"
   ]
  },
  {
   "cell_type": "code",
   "execution_count": 196,
   "metadata": {
    "collapsed": false,
    "deletable": true,
    "editable": true
   },
   "outputs": [
    {
     "name": "stdout",
     "output_type": "stream",
     "text": [
      "Populating the interactive namespace from numpy and matplotlib\n"
     ]
    },
    {
     "data": {
      "text/html": [
       "<div>\n",
       "<table border=\"1\" class=\"dataframe\">\n",
       "  <thead>\n",
       "    <tr style=\"text-align: right;\">\n",
       "      <th>Destination</th>\n",
       "      <th>AGP</th>\n",
       "      <th>BCN</th>\n",
       "      <th>MAD</th>\n",
       "    </tr>\n",
       "    <tr>\n",
       "      <th>Date</th>\n",
       "      <th></th>\n",
       "      <th></th>\n",
       "      <th></th>\n",
       "    </tr>\n",
       "  </thead>\n",
       "  <tbody>\n",
       "    <tr>\n",
       "      <th>1</th>\n",
       "      <td>9633.0</td>\n",
       "      <td>29469.0</td>\n",
       "      <td>24258.0</td>\n",
       "    </tr>\n",
       "    <tr>\n",
       "      <th>2</th>\n",
       "      <td>8379.0</td>\n",
       "      <td>28329.0</td>\n",
       "      <td>22800.0</td>\n",
       "    </tr>\n",
       "    <tr>\n",
       "      <th>3</th>\n",
       "      <td>10659.0</td>\n",
       "      <td>30552.0</td>\n",
       "      <td>24681.0</td>\n",
       "    </tr>\n",
       "    <tr>\n",
       "      <th>4</th>\n",
       "      <td>8265.0</td>\n",
       "      <td>31236.0</td>\n",
       "      <td>25251.0</td>\n",
       "    </tr>\n",
       "    <tr>\n",
       "      <th>5</th>\n",
       "      <td>10830.0</td>\n",
       "      <td>28728.0</td>\n",
       "      <td>26334.0</td>\n",
       "    </tr>\n",
       "    <tr>\n",
       "      <th>6</th>\n",
       "      <td>7923.0</td>\n",
       "      <td>26505.0</td>\n",
       "      <td>22800.0</td>\n",
       "    </tr>\n",
       "    <tr>\n",
       "      <th>7</th>\n",
       "      <td>8892.0</td>\n",
       "      <td>29241.0</td>\n",
       "      <td>22971.0</td>\n",
       "    </tr>\n",
       "    <tr>\n",
       "      <th>8</th>\n",
       "      <td>7866.0</td>\n",
       "      <td>27075.0</td>\n",
       "      <td>21831.0</td>\n",
       "    </tr>\n",
       "    <tr>\n",
       "      <th>9</th>\n",
       "      <td>8151.0</td>\n",
       "      <td>23427.0</td>\n",
       "      <td>21147.0</td>\n",
       "    </tr>\n",
       "    <tr>\n",
       "      <th>10</th>\n",
       "      <td>6499.0</td>\n",
       "      <td>20276.0</td>\n",
       "      <td>22294.0</td>\n",
       "    </tr>\n",
       "    <tr>\n",
       "      <th>11</th>\n",
       "      <td>6384.0</td>\n",
       "      <td>19824.0</td>\n",
       "      <td>20272.0</td>\n",
       "    </tr>\n",
       "    <tr>\n",
       "      <th>12</th>\n",
       "      <td>3696.0</td>\n",
       "      <td>15400.0</td>\n",
       "      <td>14504.0</td>\n",
       "    </tr>\n",
       "  </tbody>\n",
       "</table>\n",
       "</div>"
      ],
      "text/plain": [
       "Destination      AGP      BCN      MAD\n",
       "Date                                  \n",
       "1             9633.0  29469.0  24258.0\n",
       "2             8379.0  28329.0  22800.0\n",
       "3            10659.0  30552.0  24681.0\n",
       "4             8265.0  31236.0  25251.0\n",
       "5            10830.0  28728.0  26334.0\n",
       "6             7923.0  26505.0  22800.0\n",
       "7             8892.0  29241.0  22971.0\n",
       "8             7866.0  27075.0  21831.0\n",
       "9             8151.0  23427.0  21147.0\n",
       "10            6499.0  20276.0  22294.0\n",
       "11            6384.0  19824.0  20272.0\n",
       "12            3696.0  15400.0  14504.0"
      ]
     },
     "execution_count": 196,
     "metadata": {},
     "output_type": "execute_result"
    }
   ],
   "source": [
    "%pylab inline\n",
    "# Seem that all researchs were in 2013\n",
    "search_reader = pd.read_csv(searches_path, sep='^', chunksize=chunksize, usecols={'Date', 'Destination'})\n",
    "\n",
    "#1. Miramos el iata code para los lugares https://es.wikipedia.org/wiki/C%C3%B3digo_de_aeropuertos_de_IATA\n",
    "# Malaga : AGP, Madrid : MAD, Barcelona : BCN\n",
    "list_codes = ['AGP', 'MAD', 'BCN']\n",
    "df = pd.DataFrame()\n",
    "\n",
    "for chunk in search_reader:\n",
    "\n",
    "    # Filter by destination\n",
    "    chunk = chunk[chunk['Destination'].isin(list_codes)]\n",
    "\n",
    "    # Cast the column from String to datetime and get the month\n",
    "    chunk['Date'] = pd.to_datetime(chunk['Date'], format='%Y-%m-%d', errors='coerce').map(lambda x : x.month)\n",
    "\n",
    "    df_group = chunk.groupby(['Date','Destination'])['Destination'].agg({'Researchs' : 'count'}).unstack()\n",
    "\n",
    "    # We drop the first level that have in columns after pivot the second index as column name\n",
    "    df_group.columns = df_group.columns.droplevel()\n",
    "    \n",
    "    df = df.add(df_group, fill_value=0)\n",
    "df\n"
   ]
  },
  {
   "cell_type": "code",
   "execution_count": 197,
   "metadata": {
    "collapsed": false,
    "deletable": true,
    "editable": true
   },
   "outputs": [
    {
     "data": {
      "text/html": [
       "<div>\n",
       "<table border=\"1\" class=\"dataframe\">\n",
       "  <thead>\n",
       "    <tr style=\"text-align: right;\">\n",
       "      <th>Destination</th>\n",
       "      <th>AGP</th>\n",
       "      <th>BCN</th>\n",
       "      <th>MAD</th>\n",
       "    </tr>\n",
       "  </thead>\n",
       "  <tbody>\n",
       "    <tr>\n",
       "      <th>Jan</th>\n",
       "      <td>9633.0</td>\n",
       "      <td>29469.0</td>\n",
       "      <td>24258.0</td>\n",
       "    </tr>\n",
       "    <tr>\n",
       "      <th>Feb</th>\n",
       "      <td>8379.0</td>\n",
       "      <td>28329.0</td>\n",
       "      <td>22800.0</td>\n",
       "    </tr>\n",
       "    <tr>\n",
       "      <th>Mar</th>\n",
       "      <td>10659.0</td>\n",
       "      <td>30552.0</td>\n",
       "      <td>24681.0</td>\n",
       "    </tr>\n",
       "    <tr>\n",
       "      <th>Apr</th>\n",
       "      <td>8265.0</td>\n",
       "      <td>31236.0</td>\n",
       "      <td>25251.0</td>\n",
       "    </tr>\n",
       "    <tr>\n",
       "      <th>May</th>\n",
       "      <td>10830.0</td>\n",
       "      <td>28728.0</td>\n",
       "      <td>26334.0</td>\n",
       "    </tr>\n",
       "    <tr>\n",
       "      <th>Jun</th>\n",
       "      <td>7923.0</td>\n",
       "      <td>26505.0</td>\n",
       "      <td>22800.0</td>\n",
       "    </tr>\n",
       "    <tr>\n",
       "      <th>Jul</th>\n",
       "      <td>8892.0</td>\n",
       "      <td>29241.0</td>\n",
       "      <td>22971.0</td>\n",
       "    </tr>\n",
       "    <tr>\n",
       "      <th>Aug</th>\n",
       "      <td>7866.0</td>\n",
       "      <td>27075.0</td>\n",
       "      <td>21831.0</td>\n",
       "    </tr>\n",
       "    <tr>\n",
       "      <th>Sep</th>\n",
       "      <td>8151.0</td>\n",
       "      <td>23427.0</td>\n",
       "      <td>21147.0</td>\n",
       "    </tr>\n",
       "    <tr>\n",
       "      <th>Oct</th>\n",
       "      <td>6499.0</td>\n",
       "      <td>20276.0</td>\n",
       "      <td>22294.0</td>\n",
       "    </tr>\n",
       "    <tr>\n",
       "      <th>Nov</th>\n",
       "      <td>6384.0</td>\n",
       "      <td>19824.0</td>\n",
       "      <td>20272.0</td>\n",
       "    </tr>\n",
       "    <tr>\n",
       "      <th>Dec</th>\n",
       "      <td>3696.0</td>\n",
       "      <td>15400.0</td>\n",
       "      <td>14504.0</td>\n",
       "    </tr>\n",
       "  </tbody>\n",
       "</table>\n",
       "</div>"
      ],
      "text/plain": [
       "Destination      AGP      BCN      MAD\n",
       "Jan           9633.0  29469.0  24258.0\n",
       "Feb           8379.0  28329.0  22800.0\n",
       "Mar          10659.0  30552.0  24681.0\n",
       "Apr           8265.0  31236.0  25251.0\n",
       "May          10830.0  28728.0  26334.0\n",
       "Jun           7923.0  26505.0  22800.0\n",
       "Jul           8892.0  29241.0  22971.0\n",
       "Aug           7866.0  27075.0  21831.0\n",
       "Sep           8151.0  23427.0  21147.0\n",
       "Oct           6499.0  20276.0  22294.0\n",
       "Nov           6384.0  19824.0  20272.0\n",
       "Dec           3696.0  15400.0  14504.0"
      ]
     },
     "execution_count": 197,
     "metadata": {},
     "output_type": "execute_result"
    }
   ],
   "source": [
    "# We going to translate the num of month by her name\n",
    "import calendar\n",
    "\n",
    "# Numerics indexes\n",
    "data_index = df.index.get_level_values(level=0)\n",
    "\n",
    "# Translation\n",
    "names_date_index = map(lambda x : calendar.month_abbr[x], data_index)\n",
    "\n",
    "# Format the num of month for her name. We don`t realise this priorly for not lose the order.\n",
    "df.index = names_date_index\n",
    "df"
   ]
  },
  {
   "cell_type": "code",
   "execution_count": 224,
   "metadata": {
    "collapsed": false,
    "deletable": true,
    "editable": true
   },
   "outputs": [
    {
     "data": {
      "text/plain": [
       "<matplotlib.axes._subplots.AxesSubplot at 0x7f1847957950>"
      ]
     },
     "execution_count": 224,
     "metadata": {},
     "output_type": "execute_result"
    },
    {
     "data": {
      "image/png": "[encoded data removed]",
      "text/plain": [
       "<matplotlib.figure.Figure at 0x7f1847972c10>"
      ]
     },
     "metadata": {},
     "output_type": "display_data"
    }
   ],
   "source": [
    "df.plot()"
   ]
  },
  {
   "cell_type": "code",
   "execution_count": 203,
   "metadata": {
    "collapsed": false,
    "deletable": true,
    "editable": true
   },
   "outputs": [
    {
     "data": {
      "text/plain": [
       "<matplotlib.axes._subplots.AxesSubplot at 0x7f18488ba1d0>"
      ]
     },
     "execution_count": 203,
     "metadata": {},
     "output_type": "execute_result"
    },
    {
     "data": {
      "image/png": "[encoded data removed]",
      "text/plain": [
       "<matplotlib.figure.Figure at 0x7f18488c3c10>"
      ]
     },
     "metadata": {},
     "output_type": "display_data"
    }
   ],
   "source": [
    "# the bar plot can be more visual\n",
    "df.plot(kind='bar')"
   ]
  },
  {
   "cell_type": "markdown",
   "metadata": {
    "deletable": true,
    "editable": true
   },
   "source": [
    "### Exercise 4"
   ]
  },
  {
   "cell_type": "markdown",
   "metadata": {
    "deletable": true,
    "editable": true
   },
   "source": [
    "**Match searches with bookings**"
   ]
  },
  {
   "cell_type": "markdown",
   "metadata": {
    "deletable": true,
    "editable": true
   },
   "source": [
    "* For every search in the searches file, find out whether the search ended up in a booking or not (using the info in the bookings file). For instance, search and booking origin and destination should match. \n",
    "* For the bookings file, origin and destination are the columns dep_port and arr_port, respectively. \n",
    "* Generate a CSV file with the search data, and an additional field, containing 1 if the search ended up in a booking, and 0 otherwise."
   ]
  },
  {
   "cell_type": "code",
   "execution_count": null,
   "metadata": {
    "collapsed": true,
    "deletable": true,
    "editable": true
   },
   "outputs": [],
   "source": []
  },
  {
   "cell_type": "code",
   "execution_count": null,
   "metadata": {
    "collapsed": true,
    "deletable": true,
    "editable": true
   },
   "outputs": [],
   "source": []
  },
  {
   "cell_type": "markdown",
   "metadata": {
    "deletable": true,
    "editable": true
   },
   "source": [
    "### Exercise 5"
   ]
  },
  {
   "cell_type": "markdown",
   "metadata": {
    "deletable": true,
    "editable": true
   },
   "source": [
    "**Write a Web Service**"
   ]
  },
  {
   "cell_type": "markdown",
   "metadata": {
    "deletable": true,
    "editable": true
   },
   "source": [
    "* Wrap the output of the second exercise in a web service that returns the data in JSON format (instead of printing to the standard output).\n",
    "* The web service should accept a parameter n>0. For the top 10 airports, n is 10. For the X top airports, n is X "
   ]
  },
  {
   "cell_type": "code",
   "execution_count": null,
   "metadata": {
    "collapsed": true,
    "deletable": true,
    "editable": true
   },
   "outputs": [],
   "source": [
    "# Ver como montar un buen json con su mensaje de error si n <=0"
   ]
  },
  {
   "cell_type": "code",
   "execution_count": null,
   "metadata": {
    "collapsed": true,
    "deletable": true,
    "editable": true
   },
   "outputs": [],
   "source": []
  },
  {
   "cell_type": "code",
   "execution_count": null,
   "metadata": {
    "collapsed": true,
    "deletable": true,
    "editable": true
   },
   "outputs": [],
   "source": []
  }
 ],
 "metadata": {
  "kernelspec": {
   "display_name": "Python 2",
   "language": "python",
   "name": "python2"
  },
  "language_info": {
   "codemirror_mode": {
    "name": "ipython",
    "version": 2
   },
   "file_extension": ".py",
   "mimetype": "text/x-python",
   "name": "python",
   "nbconvert_exporter": "python",
   "pygments_lexer": "ipython2",
   "version": "2.7.13"
  }
 },
 "nbformat": 4,
 "nbformat_minor": 2
}
